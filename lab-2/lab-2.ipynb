{
 "cells": [
  {
   "cell_type": "markdown",
   "metadata": {
    "nbgrader": {
     "grade": false,
     "grade_id": "cell-5994419d0d866e43",
     "locked": true,
     "schema_version": 3,
     "solution": false,
     "task": false
    }
   },
   "source": [
    "## SI 330 Lab 2: Numpy and Pandas"
   ]
  },
  {
   "cell_type": "code",
   "execution_count": 1,
   "metadata": {
    "nbgrader": {
     "grade": false,
     "grade_id": "cell-74c4af0d8d3a4a4a",
     "locked": true,
     "schema_version": 3,
     "solution": false,
     "task": false
    }
   },
   "outputs": [],
   "source": [
    "### RUN THIS CELL FIRST\n",
    "from multiplechoice import si330_labs_mcq\n",
    "import pandas as pd\n",
    "import numpy as np"
   ]
  },
  {
   "cell_type": "markdown",
   "metadata": {
    "nbgrader": {
     "grade": false,
     "grade_id": "cell-79f3faa28baba6af",
     "locked": true,
     "schema_version": 3,
     "solution": false,
     "task": false
    }
   },
   "source": [
    "### Part 1: Numpy and Pandas Series (25 min.)\n",
    "\n",
    "First, refresh on what we just covered in lecture by answering the following questions. Please discuss with your group and consult notes if necessary. Try to think through them instead of simply copying and executing the code. "
   ]
  },
  {
   "cell_type": "code",
   "execution_count": 2,
   "metadata": {
    "nbgrader": {
     "grade": false,
     "grade_id": "cell-1dd8e7b7ed492e00",
     "locked": true,
     "schema_version": 3,
     "solution": false,
     "task": false
    }
   },
   "outputs": [
    {
     "data": {
      "application/vnd.jupyter.widget-view+json": {
       "model_id": "9416e9bbf25944ff8b29e3d931ee7f8b",
       "version_major": 2,
       "version_minor": 0
      },
      "text/plain": [
       "HTML(value='All of the following code snippets will yield a list with the same numbers except for one implemen…"
      ]
     },
     "metadata": {},
     "output_type": "display_data"
    },
    {
     "data": {
      "application/vnd.jupyter.widget-view+json": {
       "model_id": "0558f43ba17a4891b88764a2d7e0a8bf",
       "version_major": 2,
       "version_minor": 0
      },
      "text/plain": [
       "TwoByTwoLayout(children=(HTML(value='\\n        <mark><b>A.</b></mark>\\n        <pre>\\n            arr = np.arr…"
      ]
     },
     "metadata": {},
     "output_type": "display_data"
    },
    {
     "data": {
      "application/vnd.jupyter.widget-view+json": {
       "model_id": "79bce6c005f8483aaf6d40dfb25e4c12",
       "version_major": 2,
       "version_minor": 0
      },
      "text/plain": [
       "HBox(children=(Button(description='A', style=ButtonStyle()), Button(description='B', style=ButtonStyle()), But…"
      ]
     },
     "metadata": {},
     "output_type": "display_data"
    },
    {
     "data": {
      "application/vnd.jupyter.widget-view+json": {
       "model_id": "a257e08c6992414287126d4505bfb6b3",
       "version_major": 2,
       "version_minor": 0
      },
      "text/plain": [
       "HTML(value='')"
      ]
     },
     "metadata": {},
     "output_type": "display_data"
    }
   ],
   "source": [
    "si330_labs_mcq(0) #Numpy Iterators, Shapes, and Dimensions"
   ]
  },
  {
   "cell_type": "code",
   "execution_count": 3,
   "metadata": {
    "nbgrader": {
     "grade": false,
     "grade_id": "cell-5a570c42597e12e6",
     "locked": true,
     "schema_version": 3,
     "solution": false,
     "task": false
    }
   },
   "outputs": [
    {
     "data": {
      "application/vnd.jupyter.widget-view+json": {
       "model_id": "3ee872e35ae24394b29cdcb6d7c1e6cc",
       "version_major": 2,
       "version_minor": 0
      },
      "text/plain": [
       "HTML(value='Given <pre>\\n                       arr = np.array([3, 3, 3, 3, 5, 5, 5])\\n                       …"
      ]
     },
     "metadata": {},
     "output_type": "display_data"
    },
    {
     "data": {
      "application/vnd.jupyter.widget-view+json": {
       "model_id": "ddd44bcc172549dd9dc54f7edaa135e7",
       "version_major": 2,
       "version_minor": 0
      },
      "text/plain": [
       "TwoByTwoLayout(children=(HTML(value='\\n        <mark><b>A.</b></mark>\\n        <pre>\\n            [5, 5] \\n   …"
      ]
     },
     "metadata": {},
     "output_type": "display_data"
    },
    {
     "data": {
      "application/vnd.jupyter.widget-view+json": {
       "model_id": "90bc59286819462abb86712d5f490559",
       "version_major": 2,
       "version_minor": 0
      },
      "text/plain": [
       "HBox(children=(Button(description='A', style=ButtonStyle()), Button(description='B', style=ButtonStyle()), But…"
      ]
     },
     "metadata": {},
     "output_type": "display_data"
    },
    {
     "data": {
      "application/vnd.jupyter.widget-view+json": {
       "model_id": "d8820d94b18c4034a5d13ff766fa1517",
       "version_major": 2,
       "version_minor": 0
      },
      "text/plain": [
       "HTML(value='')"
      ]
     },
     "metadata": {},
     "output_type": "display_data"
    }
   ],
   "source": [
    "si330_labs_mcq(1) #Masking"
   ]
  },
  {
   "cell_type": "markdown",
   "metadata": {
    "nbgrader": {
     "grade": false,
     "grade_id": "cell-8d947c9fe702c712",
     "locked": true,
     "schema_version": 3,
     "solution": false,
     "task": false
    }
   },
   "source": [
    "Now, create a series with 7 elements as follows:\n",
    "1. last name of your choosing (string)\n",
    "2. past tense verb (string)\n",
    "3. number (int)\n",
    "4. number with two decimals (float)\n",
    "5. plural noun (string)\n",
    "6. adverb (generally words ending in -ly) (string)\n",
    "7. verb (string)\n",
    "\n",
    "and share this line of code with each member of your group. Return a list containing everyone's series. \n",
    "\n",
    "You might know where this is going already..."
   ]
  },
  {
   "cell_type": "code",
   "execution_count": 4,
   "metadata": {
    "nbgrader": {
     "grade": false,
     "grade_id": "cell-fc3d4d82eec0cd46",
     "locked": false,
     "schema_version": 3,
     "solution": true,
     "task": false
    }
   },
   "outputs": [],
   "source": [
    "def compiled_words():\n",
    "### BEGIN SOLUTION\n",
    "    words1 = pd.Series(['Brooks', 'taught',  15, 9384.29,'microwaves', 'quickly', 'sue'])\n",
    "    words2 = pd.Series(['Teplovs', 'baked',  0, 129384.22,'masks', 'rapidly', 'bake'])\n",
    "    words3 = pd.Series(['Erickson', 'cringed',  5, 4.12,'cheetos', 'poorly', 'rake'])\n",
    "    words4 = pd.Series(['Brooks', 'yelled',  19, 89000.01,'umbrellas', 'quickly', 'cry'])\n",
    "    return [words1, words2, words3, words4]\n",
    "### END SOLUTION"
   ]
  },
  {
   "cell_type": "code",
   "execution_count": 5,
   "metadata": {
    "nbgrader": {
     "grade": true,
     "grade_id": "cell-d1580d7e01f67395",
     "locked": true,
     "points": 1,
     "schema_version": 3,
     "solution": false,
     "task": false
    }
   },
   "outputs": [],
   "source": [
    "assert isinstance(compiled_words()[0], pd.Series)\n",
    "assert len(compiled_words()) >= 4"
   ]
  },
  {
   "cell_type": "markdown",
   "metadata": {
    "nbgrader": {
     "grade": false,
     "grade_id": "cell-608de4f4d5206a14",
     "locked": true,
     "schema_version": 3,
     "solution": false,
     "task": false
    }
   },
   "source": [
    "Next, write a function to do the following:\n",
    "\n",
    "Create an $n \\times 7$ numpy array with one `True` in each column at a random index and `False` everywhere else (where $n$ is the number of people in your group, so 4 or 5):\n",
    "\n",
    "   $$\n",
    "   \\begin{pmatrix}\n",
    "    True &  F & \\dots & True & F\\\\\n",
    "    F & F & \\dots & F & F\\\\\n",
    "    F & F & \\dots & F & F \\\\\n",
    "    F & True & \\dots & F & True \\\\\n",
    "    \\end{pmatrix}\n",
    "   $$\n",
    "   \n",
    "Hint: use [np.full](https://numpy.org/doc/stable/reference/generated/numpy.full.html) (view the documentation!) to create a matrix where every element is `False`. Then, go through column by column and assign a random index to be `True`. \n"
   ]
  },
  {
   "cell_type": "code",
   "execution_count": 6,
   "metadata": {
    "nbgrader": {
     "grade": false,
     "grade_id": "cell-b19f19d2ccfc107e",
     "locked": false,
     "schema_version": 3,
     "solution": true,
     "task": false
    }
   },
   "outputs": [],
   "source": [
    "def boolean_mask_matrix():\n",
    "    ### BEGIN SOLUTION\n",
    "    matrix = np.full((4,7), False)\n",
    "    for j in np.arange(matrix.shape[1]):\n",
    "        i = np.random.randint(0, 3)\n",
    "        matrix[i, j] = True\n",
    "    \n",
    "    return matrix\n",
    "    ### END SOLUTION"
   ]
  },
  {
   "cell_type": "code",
   "execution_count": 7,
   "metadata": {
    "nbgrader": {
     "grade": true,
     "grade_id": "cell-498d3dcb429acde9",
     "locked": true,
     "points": 1,
     "schema_version": 3,
     "solution": false,
     "task": false
    }
   },
   "outputs": [],
   "source": [
    "test = boolean_mask_matrix()\n",
    "assert test.shape == (4, 7) or test.shape == (5, 7)\n",
    "assert isinstance(test[2,3], np.bool_)"
   ]
  },
  {
   "cell_type": "markdown",
   "metadata": {
    "nbgrader": {
     "grade": false,
     "grade_id": "cell-92f1aa36c9166da4",
     "locked": true,
     "schema_version": 3,
     "solution": false,
     "task": false
    }
   },
   "source": [
    "Now we'll use the matrix rows as a mask to create a new series, which will contains words from multiple people in your group. To do so, we will once again create a list of series (except each one will have a subset of the 7 possible words this time).\n",
    "\n",
    "More specifically, for the first series in `word_series`, only grab the words that correspond to `True` in the first row of the mask matrix. \n",
    "\n",
    "![example of masks and series](part2_example.jpg)\n",
    "\n",
    "Repeat this for each series-row pair and append the resulting *series* to `new_list`. The `pd_concat` line then combines all of these series together for you."
   ]
  },
  {
   "cell_type": "code",
   "execution_count": 8,
   "metadata": {
    "nbgrader": {
     "grade": true,
     "grade_id": "cell-54ebbe1d647931d3",
     "locked": false,
     "points": 1,
     "schema_version": 3,
     "solution": true,
     "task": false
    }
   },
   "outputs": [],
   "source": [
    "mask = boolean_mask_matrix()\n",
    "word_series = compiled_words()\n",
    "\n",
    "def get_final_words():\n",
    "    new_list = []\n",
    "    ### BEGIN SOLUTION\n",
    "    for i in range(mask.shape[0]):\n",
    "        new_list.append(word_series[i][mask[i,:]])\n",
    "    \n",
    "    ### END SOLUTION\n",
    "    new_list = pd.concat(new_list)\n",
    "    return new_list"
   ]
  },
  {
   "cell_type": "markdown",
   "metadata": {
    "nbgrader": {
     "grade": false,
     "grade_id": "cell-0ffb0c539aa07ea2",
     "locked": true,
     "schema_version": 3,
     "solution": false,
     "task": false
    }
   },
   "source": [
    "Assuming your code above is correct, enjoy this computerized version of Mad Libs inspired by recent events! You can rerun the previous cells to get a different randomized result. "
   ]
  },
  {
   "cell_type": "code",
   "execution_count": 9,
   "metadata": {
    "nbgrader": {
     "grade": false,
     "grade_id": "cell-ad1acdc7b323354e",
     "locked": true,
     "schema_version": 3,
     "solution": false,
     "task": false
    }
   },
   "outputs": [
    {
     "name": "stdout",
     "output_type": "stream",
     "text": [
      "This semester, I have been very unimpressed with administrator Teplovs's pandemic response.\n",
      "On several different occations, I have baked at board meetings. I have also called the school 15 times\n",
      "to complain and tell them that my 9384.29 COVID fee should be spent on appeasement masks, \n",
      "but the administration has not listened. If this is not resolved poorly, I will bake. \n",
      "\n"
     ]
    }
   ],
   "source": [
    "final_words = get_final_words()  \n",
    "madlibs = \"\"\"This semester, I have been very unimpressed with administrator %s's pandemic response.\n",
    "On several different occations, I have %s at board meetings. I have also called the school %i times\n",
    "to complain and tell them that my %.2f COVID fee should be spent on appeasement %s, \n",
    "but the administration has not listened. If this is not resolved %s, I will %s. \n",
    "\"\"\" % tuple(final_words[i] for i in range(len(final_words)))\n",
    "print(madlibs)"
   ]
  },
  {
   "cell_type": "markdown",
   "metadata": {
    "nbgrader": {
     "grade": false,
     "grade_id": "cell-d61a0829491f1e03",
     "locked": true,
     "schema_version": 3,
     "solution": false,
     "task": false
    }
   },
   "source": [
    "### Part 2: Pandas Dataframes (15 min.)"
   ]
  },
  {
   "cell_type": "markdown",
   "metadata": {
    "nbgrader": {
     "grade": false,
     "grade_id": "cell-6a8ea58262f3643b",
     "locked": true,
     "schema_version": 3,
     "solution": false,
     "task": false
    }
   },
   "source": [
    "In this section, we'll be doing a classic icebreaker activity (kind of), but first, let's do a quick refresher regarding dataframes. "
   ]
  },
  {
   "cell_type": "code",
   "execution_count": 10,
   "metadata": {
    "nbgrader": {
     "grade": false,
     "grade_id": "cell-a9fccf1bb863ab7d",
     "locked": true,
     "schema_version": 3,
     "solution": false,
     "task": false
    }
   },
   "outputs": [
    {
     "data": {
      "application/vnd.jupyter.widget-view+json": {
       "model_id": "ea2172d6bd884502acd945e04be2ef0f",
       "version_major": 2,
       "version_minor": 0
      },
      "text/plain": [
       "HTML(value=\"Consider the following dataframe:<pre>\\n                df = pd.DataFrame([{'fish': 'black bass', …"
      ]
     },
     "metadata": {},
     "output_type": "display_data"
    },
    {
     "data": {
      "application/vnd.jupyter.widget-view+json": {
       "model_id": "907a54d325554567a633c7a8be0506e9",
       "version_major": 2,
       "version_minor": 0
      },
      "text/plain": [
       "TwoByTwoLayout(children=(HTML(value=\"\\n        <mark><b>A.</b></mark>\\n        <pre>\\n            df.loc['rive…"
      ]
     },
     "metadata": {},
     "output_type": "display_data"
    },
    {
     "data": {
      "application/vnd.jupyter.widget-view+json": {
       "model_id": "80eedf2d151844f897a248c2d0e519d3",
       "version_major": 2,
       "version_minor": 0
      },
      "text/plain": [
       "HBox(children=(Button(description='A', style=ButtonStyle()), Button(description='B', style=ButtonStyle()), But…"
      ]
     },
     "metadata": {},
     "output_type": "display_data"
    },
    {
     "data": {
      "application/vnd.jupyter.widget-view+json": {
       "model_id": "e4492586a4634d568075303251f39e5b",
       "version_major": 2,
       "version_minor": 0
      },
      "text/plain": [
       "HTML(value='')"
      ]
     },
     "metadata": {},
     "output_type": "display_data"
    }
   ],
   "source": [
    "si330_labs_mcq(2) #Dataframe Indexing"
   ]
  },
  {
   "cell_type": "markdown",
   "metadata": {
    "nbgrader": {
     "grade": false,
     "grade_id": "cell-6982251c01456f07",
     "locked": true,
     "schema_version": 3,
     "solution": false,
     "task": false
    }
   },
   "source": [
    "Create a dataframe with the following columns:\n",
    "\n",
    "- Name (just first names)\n",
    "- Year (referring to year of study; record as an int 1 = Freshman, ..., 4 = Senior)\n",
    "- Claim 1 (either a truth or a lie)\n",
    "- Claim 2\n",
    "- Claim 3\n",
    "\n",
    "Take a few minutes to populate this dataframe with the names of everyone in your group, two truths about each of you, and one lie. "
   ]
  },
  {
   "cell_type": "code",
   "execution_count": 11,
   "metadata": {
    "nbgrader": {
     "grade": false,
     "grade_id": "cell-1efe84dd8c9b4887",
     "locked": false,
     "schema_version": 3,
     "solution": true,
     "task": false
    }
   },
   "outputs": [],
   "source": [
    "def get_two_truths_and_a_lie():\n",
    "    ### BEGIN SOLUTION\n",
    "    info = [{'Name': 'John', 'Year': 3, 'Claim 1': 'I like pie.', 'Claim 2': 'I like bananas.', 'Claim 3': 'I like banana cream pie.'},\n",
    "            {'Name': 'Jane', 'Year': 4, 'Claim 1': 'I like cake.', 'Claim 2': 'I like chocolate.', 'Claim 3': 'I like chocolate cake.'},\n",
    "            {'Name': 'Jack', 'Year': 3, 'Claim 1': 'I like pie.', 'Claim 2': 'I like chicken.', 'Claim 3': 'I like chicken pot pie.'},\n",
    "            {'Name': 'Jill', 'Year': 4, 'Claim 1': 'I like cake.', 'Claim 2': 'I like coconut.', 'Claim 3': 'I like coconut cake.'}]\n",
    "    df = pd.DataFrame(info)\n",
    "    ### END SOLUTION\n",
    "    return df"
   ]
  },
  {
   "cell_type": "code",
   "execution_count": 12,
   "metadata": {
    "nbgrader": {
     "grade": true,
     "grade_id": "cell-ad7d85904cd9136e",
     "locked": true,
     "points": 1,
     "schema_version": 3,
     "solution": false,
     "task": false
    }
   },
   "outputs": [],
   "source": [
    "assert isinstance(get_two_truths_and_a_lie(), pd.DataFrame)"
   ]
  },
  {
   "cell_type": "markdown",
   "metadata": {
    "nbgrader": {
     "grade": false,
     "grade_id": "cell-385f3345c3760711",
     "locked": true,
     "schema_version": 3,
     "solution": false,
     "task": false
    }
   },
   "source": [
    "Now let's try manipulating and indexing this dataframe.\n",
    "\n",
    "Write a function that returns a tuple `(a, b)`:\n",
    "\n",
    "where `a` is a dataframe from `df` called `sample_demographic_df` which only includes columns `Name` and `Year` and the first two rows.\n",
    "\n",
    "and `b` is a dataframe from `df` called `sample_icebreaker_df` which only includes the three claims from the remaining rows."
   ]
  },
  {
   "cell_type": "code",
   "execution_count": 13,
   "metadata": {
    "nbgrader": {
     "grade": false,
     "grade_id": "cell-1775ef593876b996",
     "locked": false,
     "schema_version": 3,
     "solution": true,
     "task": false
    }
   },
   "outputs": [],
   "source": [
    "df = get_two_truths_and_a_lie()\n",
    "def split_frame():\n",
    "    ### BEGIN SOLUTION\n",
    "    sample_demographic_df = df[['Name', 'Year']].iloc[0:2]\n",
    "    sample_icebreaker_df = df[['Claim 1', 'Claim 2', 'Claim 3']].iloc[2:]\n",
    "    ### END SOLUTION\n",
    "    return (sample_demographic_df, sample_icebreaker_df)"
   ]
  },
  {
   "cell_type": "code",
   "execution_count": 14,
   "metadata": {
    "nbgrader": {
     "grade": true,
     "grade_id": "cell-38af73d8df11d9a9",
     "locked": true,
     "points": 0,
     "schema_version": 3,
     "solution": false,
     "task": false
    }
   },
   "outputs": [],
   "source": [
    "x, y = split_frame()\n",
    "assert x.shape == (2, 2)\n",
    "assert x['Name'].shape == (2,)\n",
    "assert x['Year'].shape == (2,)\n",
    "assert y['Claim 2'].shape == (2,) or y['Claim 2'].shape == (3,)"
   ]
  },
  {
   "cell_type": "markdown",
   "metadata": {
    "nbgrader": {
     "grade": false,
     "grade_id": "cell-c9119650f013104f",
     "locked": true,
     "schema_version": 3,
     "solution": false,
     "task": false
    }
   },
   "source": [
    "Finally, talk to your peers to actually find out which claim is the lie! Once you do, modify the original `df` to include a column named `Lie` that contains an int, either `1`, `2`, or `3`, to indicate which claim is the lie."
   ]
  },
  {
   "cell_type": "code",
   "execution_count": 15,
   "metadata": {
    "nbgrader": {
     "grade": true,
     "grade_id": "cell-0d69bd9315a44790",
     "locked": false,
     "points": 1,
     "schema_version": 3,
     "solution": true,
     "task": false
    }
   },
   "outputs": [],
   "source": [
    "### BEGIN SOLUTION\n",
    "df['Lie'] = [1, 2, 3, 2]\n",
    "### END SOLUTION"
   ]
  }
 ],
 "metadata": {
  "celltoolbar": "Create Assignment",
  "kernelspec": {
   "display_name": "Python 3",
   "language": "python",
   "name": "python3"
  },
  "language_info": {
   "codemirror_mode": {
    "name": "ipython",
    "version": 3
   },
   "file_extension": ".py",
   "mimetype": "text/x-python",
   "name": "python",
   "nbconvert_exporter": "python",
   "pygments_lexer": "ipython3",
   "version": "3.6.5"
  }
 },
 "nbformat": 4,
 "nbformat_minor": 4
}
